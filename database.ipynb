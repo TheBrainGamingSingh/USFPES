{
 "cells": [
  {
   "cell_type": "code",
   "execution_count": 1,
   "metadata": {},
   "outputs": [],
   "source": [
    "import sqlite3\n",
    "def create_connection(db_file):\n",
    "    \"\"\" \n",
    "    create a database connection to the SQLite database specified by the db_file\n",
    "    :param db_file: database file\n",
    "    :return: Connection object or None\n",
    "    \"\"\"\n",
    "    conn = None\n",
    "    try:\n",
    "        conn = sqlite3.connect(db_file)\n",
    "    except Error as e:\n",
    "        print(e)\n",
    " \n",
    "    return conn"
   ]
  },
  {
   "cell_type": "code",
   "execution_count": 2,
   "metadata": {},
   "outputs": [],
   "source": [
    "conn = create_connection('usfpes/site.db')"
   ]
  },
  {
   "cell_type": "code",
   "execution_count": 9,
   "metadata": {},
   "outputs": [
    {
     "name": "stdout",
     "output_type": "stream",
     "text": [
      "(1, 'Manpreet', 'itsmanpreetsinghjuneja@gmail.com', '4af9e7f80d9c1040.jpg', '$2b$12$mLNa5N3JAQfAkIp19bzIUu4XGMlxiLfvbLjVK.b0/yjOu2.7M5bfu', '17103022', 0, 0)\n",
      "(2, 'Shrey', 'bhardwajshrey10@gmail.com', '0047134459fb3706.jpg', '$2b$12$Hv4T0oCOhq7nRRHrts6TPuY7sQyqQSiocnELXLFx5DxEQvndJTYFy', '17103048', 0, 0)\n",
      "(3, 'Stuti', 'sharmastuti99@gmail.com', 'default.jpg', '$2b$12$YxxwB1eOl6qZXpwOp6HYP.qES/ktWi1ddOAifUeQ0UTim3550ioPm', '17103122', 0, 0)\n",
      "(4, 'MPSJ', 'manpreetsinghjuneja.becse17@pec.edu.in', 'default.jpg', '$2b$12$OhAOagf.XSzBeGn3O2/E6OcREkZ.mDUf4mljtVvppQPQyPhnAEbwy', '17103125', 0, 0)\n",
      "(5, 'Chit', 'abc@gmail.com', 'default.jpg', '$2b$12$X4/S3LRkgMOCvY3ru0LdfOQQlX.MrkjQTBzwnD90KZM6sWiv/xHVu', '17103012', 0, 0)\n",
      "(6, 'SG3018', 'shreyagupta003@hotmail.com', 'default.jpg', '$2b$12$6vUBVtnTZmIHvVaXyrHdZOzbAzUuZJX4zS9W1k03L6wO6FotDG4Zi', '17103003', 0, 0)\n",
      "(7, 'pranavdhingra', 'prnvdhngr323@gmail.com', 'default.jpg', '$2b$12$xJjWhL5CvmDm1HxogvI0teRYBANlSLsQA83oRbVCfJSf2fDeuuQ6C', '17103006', 0, 0)\n",
      "(8, 'rb384', 'bansalraghav384@gmail.com', 'default.jpg', '$2b$12$GOQ49nFaDjGDFCCuJE7yTOVYHOADzuLHLldnsn7dziiwo8mRhIv0y', '17103027', 0, 0)\n",
      "(9, 'Sagar', 'sagardhiman0011@gmail.com', 'default.jpg', '$2b$12$QAfmDNFL4b2WxbTQiZiUaeP0echf7t3g25CekwWAeFXYsIy5ksleS', '17103023', 0, 0)\n",
      "(10, 'agrim420', 'agrim335@gmail.com', 'default.jpg', '$2b$12$7wMXvjtmY0iUM5M0ZEaMU.3GcdUA3eLJad/NWUsXjgCsxa7H9FPzG', '17103055', 0, 0)\n",
      "(11, 'MSJ', 'manpreetsingh10399@gmail.com', 'default.jpg', '$2b$12$325iQY2RH4iNV4lG/SrqQO4V2jfjxjQF2oMPaoMYpGM01CB5Ajd02', '17103112', 0, 0)\n",
      "(12, 'mehak', 'mehakgoyal08@gmail.com', 'default.jpg', '$2b$12$afuHCa0u3ebK7IlGPrdUnOmyWMDc0seG0MDFbwHkLec4W.TuL2.XO', '17103085', 0, 0)\n",
      "(13, 'ManpreetSJ', 'tamanna.sood17@gmail.com', 'default.jpg', '$2b$12$aU8BuKDbuUes35vgRCxSIu/K/mI0gFJNh3fJ57NZpVXpAN9VmK2D6', '17103001', 0, 0)\n",
      "(14, 'simran', 'simran.412000@gmail.com', 'default.jpg', '$2b$12$9t3fFf.5PQ6jkw1/ca/JQu5.QgexkNon6OComvhSsrtMOSWLr9YMO', '17105088', 0, 0)\n",
      "(15, 'msj', 'manpreetsinghjuneja10399@gmail.com', 'default.jpg', '$2b$12$FFo9I/s9dAYjV7K0G.eJo.7BHVcBZUMCI73.ICCycclqGOWD/MFge', '17103045', 0, 0)\n"
     ]
    }
   ],
   "source": [
    "cur = conn.cursor()\n",
    "\n",
    "cur.execute(\"UPDATE user SET filled_survey = 0 WHERE username = 'Manpreet'\")\n",
    "cur.execute(\"SELECT * FROM user\")\n",
    "rows = cur.fetchall()\n",
    " \n",
    "for row in rows:\n",
    "    print(row)\n",
    "\n"
   ]
  },
  {
   "cell_type": "code",
   "execution_count": 10,
   "metadata": {},
   "outputs": [],
   "source": [
    "conn.commit()"
   ]
  },
  {
   "cell_type": "code",
   "execution_count": null,
   "metadata": {},
   "outputs": [],
   "source": []
  }
 ],
 "metadata": {
  "kernelspec": {
   "display_name": "Python 3",
   "language": "python",
   "name": "python3"
  },
  "language_info": {
   "codemirror_mode": {
    "name": "ipython",
    "version": 3
   },
   "file_extension": ".py",
   "mimetype": "text/x-python",
   "name": "python",
   "nbconvert_exporter": "python",
   "pygments_lexer": "ipython3",
   "version": "3.7.3"
  }
 },
 "nbformat": 4,
 "nbformat_minor": 2
}
